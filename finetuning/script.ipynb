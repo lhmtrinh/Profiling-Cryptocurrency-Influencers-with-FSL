{
 "cells": [
  {
   "cell_type": "code",
   "execution_count": 1,
   "metadata": {},
   "outputs": [],
   "source": [
    "from influencer_profiler import InfluencerProfiler, save_model\n",
    "from dataloader import create_data_loader\n",
    "from train_loop import train_loop\n",
    "from transformers import AutoTokenizer, get_linear_schedule_with_warmup\n",
    "import pandas as pd\n",
    "from sklearn.model_selection import train_test_split\n",
    "from torch import optim\n",
    "import torch.nn as nn\n",
    "import torch\n",
    "\n",
    "RANDOM_SEED = 20\n",
    "\n",
    "MODELS = ['charlieoneill/distilbert-base-uncased-finetuned-tweet_eval-offensive', \n",
    "         'pig4431/TweetEval_roBERTa_5E', \n",
    "         'tner/twitter-roberta-base-dec2021-tweetner7-random',\n",
    "         'tner/bertweet-large-tweetner7-all',\n",
    "         'cardiffnlp/tweet-topic-21-multi',\n",
    "         'cardiffnlp/twitter-roberta-base-2021-124m'\n",
    "         ]\n",
    "\n",
    "EPOCHS = 6\n",
    "\n",
    "device = torch.device(\"cuda\" if torch.cuda.is_available() else \"cpu\")"
   ]
  },
  {
   "cell_type": "code",
   "execution_count": 3,
   "metadata": {},
   "outputs": [],
   "source": [
    "def translate_class_column(df):\n",
    "    class_map = {\n",
    "        \"no influencer\": 0,\n",
    "        \"nano\": 1,\n",
    "        \"micro\": 2,\n",
    "        \"macro\": 3,\n",
    "        \"mega\": 4\n",
    "    }\n",
    "    \n",
    "    if \"class\" not in df.columns:\n",
    "        print(\"Error: DataFrame does not contain a column called 'class'\")\n",
    "        return\n",
    "    \n",
    "    df[\"class\"] = df[\"class\"].apply(lambda x: class_map.get(x, x))\n",
    "    \n",
    "    return df\n",
    "\n",
    "df = pd.read_csv('../data/preprocessed_data.csv')\n",
    "df = translate_class_column(df)\n",
    "\n",
    "df_train_val, df_test = train_test_split(df, test_size=100, random_state=RANDOM_SEED)\n",
    "df_train, df_val = train_test_split(df_train_val, test_size=100, random_state=RANDOM_SEED)"
   ]
  },
  {
   "cell_type": "code",
   "execution_count": 6,
   "metadata": {},
   "outputs": [
    {
     "name": "stderr",
     "output_type": "stream",
     "text": [
      "Some weights of the model checkpoint at charlieoneill/distilbert-base-uncased-finetuned-tweet_eval-offensive were not used when initializing DistilBertModel: ['classifier.weight', 'classifier.bias', 'pre_classifier.weight', 'pre_classifier.bias']\n",
      "- This IS expected if you are initializing DistilBertModel from the checkpoint of a model trained on another task or with another architecture (e.g. initializing a BertForSequenceClassification model from a BertForPreTraining model).\n",
      "- This IS NOT expected if you are initializing DistilBertModel from the checkpoint of a model that you expect to be exactly identical (initializing a BertForSequenceClassification model from a BertForSequenceClassification model).\n"
     ]
    },
    {
     "name": "stdout",
     "output_type": "stream",
     "text": [
      "Epoch 1/1\n",
      "----------\n"
     ]
    },
    {
     "name": "stderr",
     "output_type": "stream",
     "text": [
      "  8%|▊         | 6/74 [00:02<00:27,  2.44it/s]\n"
     ]
    },
    {
     "ename": "KeyboardInterrupt",
     "evalue": "",
     "output_type": "error",
     "traceback": [
      "\u001b[0;31m---------------------------------------------------------------------------\u001b[0m",
      "\u001b[0;31mKeyboardInterrupt\u001b[0m                         Traceback (most recent call last)",
      "Cell \u001b[0;32mIn[6], line 29\u001b[0m\n\u001b[1;32m     26\u001b[0m loss_fn \u001b[39m=\u001b[39m nn\u001b[39m.\u001b[39mCrossEntropyLoss()\u001b[39m.\u001b[39mto(device)\n\u001b[1;32m     28\u001b[0m \u001b[39m# Train model\u001b[39;00m\n\u001b[0;32m---> 29\u001b[0m model \u001b[39m=\u001b[39m train_loop(\u001b[39m1\u001b[39;49m, train_data_loader, df_train, val_data_loader, df_val, model, loss_fn, optimizer, device, scheduler)\n",
      "File \u001b[0;32m~/Profiling-Cryptocurrency-Influencers-with-FSL/Finetuning/train_loop.py:12\u001b[0m, in \u001b[0;36mtrain_loop\u001b[0;34m(epochs, train_data_loader, df_train, val_data_loader, df_val, model, loss_fn, optimizer, device, scheduler)\u001b[0m\n\u001b[1;32m      9\u001b[0m \u001b[39mprint\u001b[39m(\u001b[39mf\u001b[39m\u001b[39m'\u001b[39m\u001b[39mEpoch \u001b[39m\u001b[39m{\u001b[39;00mepoch\u001b[39m \u001b[39m\u001b[39m+\u001b[39m\u001b[39m \u001b[39m\u001b[39m1\u001b[39m\u001b[39m}\u001b[39;00m\u001b[39m/\u001b[39m\u001b[39m{\u001b[39;00mepochs\u001b[39m}\u001b[39;00m\u001b[39m'\u001b[39m)\n\u001b[1;32m     10\u001b[0m \u001b[39mprint\u001b[39m(\u001b[39m'\u001b[39m\u001b[39m-\u001b[39m\u001b[39m'\u001b[39m \u001b[39m*\u001b[39m \u001b[39m10\u001b[39m)\n\u001b[0;32m---> 12\u001b[0m train_acc, train_loss, val_acc, val_loss \u001b[39m=\u001b[39m train_epoch(\n\u001b[1;32m     13\u001b[0m     model,\n\u001b[1;32m     14\u001b[0m     train_data_loader,\n\u001b[1;32m     15\u001b[0m     \u001b[39mlen\u001b[39;49m(df_train),\n\u001b[1;32m     16\u001b[0m     val_data_loader,\n\u001b[1;32m     17\u001b[0m     \u001b[39mlen\u001b[39;49m(df_val),\n\u001b[1;32m     18\u001b[0m     loss_fn, \n\u001b[1;32m     19\u001b[0m     optimizer, \n\u001b[1;32m     20\u001b[0m     device, \n\u001b[1;32m     21\u001b[0m     scheduler, \n\u001b[1;32m     22\u001b[0m )\n\u001b[1;32m     23\u001b[0m \u001b[39mprint\u001b[39m(\u001b[39mf\u001b[39m\u001b[39m'\u001b[39m\u001b[39mTrain loss \u001b[39m\u001b[39m{\u001b[39;00mtrain_loss\u001b[39m}\u001b[39;00m\u001b[39m accuracy \u001b[39m\u001b[39m{\u001b[39;00mtrain_acc\u001b[39m}\u001b[39;00m\u001b[39m'\u001b[39m)\n\u001b[1;32m     24\u001b[0m \u001b[39mprint\u001b[39m(\u001b[39mf\u001b[39m\u001b[39m'\u001b[39m\u001b[39mVal loss   \u001b[39m\u001b[39m{\u001b[39;00mval_loss\u001b[39m}\u001b[39;00m\u001b[39m accuracy \u001b[39m\u001b[39m{\u001b[39;00mval_acc\u001b[39m}\u001b[39;00m\u001b[39m'\u001b[39m)\n",
      "File \u001b[0;32m~/Profiling-Cryptocurrency-Influencers-with-FSL/Finetuning/train_loop.py:47\u001b[0m, in \u001b[0;36mtrain_epoch\u001b[0;34m(model, train_data_loader, n_train_examples, val_data_loader, n_val_examples, loss_fn, optimizer, device, scheduler)\u001b[0m\n\u001b[1;32m     45\u001b[0m loss \u001b[39m=\u001b[39m loss_fn(outputs, targets)\n\u001b[1;32m     46\u001b[0m train_loss\u001b[39m.\u001b[39mappend(loss\u001b[39m.\u001b[39mitem())\n\u001b[0;32m---> 47\u001b[0m loss\u001b[39m.\u001b[39;49mbackward()\n\u001b[1;32m     49\u001b[0m predictions \u001b[39m=\u001b[39m outputs\u001b[39m.\u001b[39margmax(dim\u001b[39m=\u001b[39m\u001b[39m1\u001b[39m)\n\u001b[1;32m     50\u001b[0m train_correct_predictions \u001b[39m+\u001b[39m\u001b[39m=\u001b[39m torch\u001b[39m.\u001b[39msum(predictions \u001b[39m==\u001b[39m targets)\n",
      "File \u001b[0;32m~/env/lib/python3.8/site-packages/torch/_tensor.py:487\u001b[0m, in \u001b[0;36mTensor.backward\u001b[0;34m(self, gradient, retain_graph, create_graph, inputs)\u001b[0m\n\u001b[1;32m    477\u001b[0m \u001b[39mif\u001b[39;00m has_torch_function_unary(\u001b[39mself\u001b[39m):\n\u001b[1;32m    478\u001b[0m     \u001b[39mreturn\u001b[39;00m handle_torch_function(\n\u001b[1;32m    479\u001b[0m         Tensor\u001b[39m.\u001b[39mbackward,\n\u001b[1;32m    480\u001b[0m         (\u001b[39mself\u001b[39m,),\n\u001b[0;32m   (...)\u001b[0m\n\u001b[1;32m    485\u001b[0m         inputs\u001b[39m=\u001b[39minputs,\n\u001b[1;32m    486\u001b[0m     )\n\u001b[0;32m--> 487\u001b[0m torch\u001b[39m.\u001b[39;49mautograd\u001b[39m.\u001b[39;49mbackward(\n\u001b[1;32m    488\u001b[0m     \u001b[39mself\u001b[39;49m, gradient, retain_graph, create_graph, inputs\u001b[39m=\u001b[39;49minputs\n\u001b[1;32m    489\u001b[0m )\n",
      "File \u001b[0;32m~/env/lib/python3.8/site-packages/torch/autograd/__init__.py:200\u001b[0m, in \u001b[0;36mbackward\u001b[0;34m(tensors, grad_tensors, retain_graph, create_graph, grad_variables, inputs)\u001b[0m\n\u001b[1;32m    195\u001b[0m     retain_graph \u001b[39m=\u001b[39m create_graph\n\u001b[1;32m    197\u001b[0m \u001b[39m# The reason we repeat same the comment below is that\u001b[39;00m\n\u001b[1;32m    198\u001b[0m \u001b[39m# some Python versions print out the first line of a multi-line function\u001b[39;00m\n\u001b[1;32m    199\u001b[0m \u001b[39m# calls in the traceback and some print out the last line\u001b[39;00m\n\u001b[0;32m--> 200\u001b[0m Variable\u001b[39m.\u001b[39;49m_execution_engine\u001b[39m.\u001b[39;49mrun_backward(  \u001b[39m# Calls into the C++ engine to run the backward pass\u001b[39;49;00m\n\u001b[1;32m    201\u001b[0m     tensors, grad_tensors_, retain_graph, create_graph, inputs,\n\u001b[1;32m    202\u001b[0m     allow_unreachable\u001b[39m=\u001b[39;49m\u001b[39mTrue\u001b[39;49;00m, accumulate_grad\u001b[39m=\u001b[39;49m\u001b[39mTrue\u001b[39;49;00m)\n",
      "\u001b[0;31mKeyboardInterrupt\u001b[0m: "
     ]
    }
   ],
   "source": [
    "for model_name in MODELS:    \n",
    "    # Retrieve the tokenizer for the model\n",
    "    tokenizer = AutoTokenizer.from_pretrained(model_name)\n",
    "\n",
    "    # Create data loader\n",
    "    train_data_loader = create_data_loader(df_train, tokenizer, 500, 8)\n",
    "    val_data_loader = create_data_loader(df_val, tokenizer, 500, 8)\n",
    "    test_data_loader = create_data_loader(df_test, tokenizer, 500, 8)\n",
    "\n",
    "    # Create model\n",
    "    model = InfluencerProfiler(model= model_name,n_classes=5).to(device)\n",
    "\n",
    "    model.requires_grad_embeddings(True)\n",
    "\n",
    "    # Set training parameters\n",
    "    optimizer = optim.AdamW(model.parameters(), lr=2e-5)\n",
    "    total_steps = len(train_data_loader) * EPOCHS\n",
    "    scheduler = get_linear_schedule_with_warmup(\n",
    "                    optimizer,\n",
    "                    num_warmup_steps=0,\n",
    "                    num_training_steps=total_steps\n",
    "                )\n",
    "\n",
    "    # Set loss function\n",
    "    loss_fn = nn.CrossEntropyLoss().to(device)\n",
    "\n",
    "    # Train model\n",
    "    model = train_loop(1, train_data_loader, df_train, val_data_loader, df_val, model, loss_fn, optimizer, device, scheduler)\n",
    "\n",
    "    # Export model\n",
    "    save_model(model, f'{model_name}.pth')"
   ]
  }
 ],
 "metadata": {
  "kernelspec": {
   "display_name": "NLP",
   "language": "python",
   "name": "python3"
  },
  "language_info": {
   "codemirror_mode": {
    "name": "ipython",
    "version": 3
   },
   "file_extension": ".py",
   "mimetype": "text/x-python",
   "name": "python",
   "nbconvert_exporter": "python",
   "pygments_lexer": "ipython3",
   "version": "3.8.10"
  },
  "orig_nbformat": 4
 },
 "nbformat": 4,
 "nbformat_minor": 2
}
