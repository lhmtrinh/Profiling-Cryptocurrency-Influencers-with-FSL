{
 "cells": [
  {
   "cell_type": "code",
   "execution_count": 4,
   "metadata": {},
   "outputs": [],
   "source": [
    "from influencer_profiler import InfluencerProfiler, save_model\n",
    "# from dataloader import create_data_loader\n",
    "from dataloader_v2 import create_data_loader\n",
    "from train_loop import train_loop\n",
    "from transformers import AutoTokenizer, get_linear_schedule_with_warmup\n",
    "\n",
    "import pandas as pd\n",
    "from torch import optim\n",
    "import torch.nn as nn\n",
    "import torch"
   ]
  },
  {
   "cell_type": "code",
   "execution_count": 5,
   "metadata": {},
   "outputs": [],
   "source": [
    "MODELS = ['charlieoneill/distilbert-base-uncased-finetuned-tweet_eval-offensive', \n",
    "         'pig4431/TweetEval_roBERTa_5E', \n",
    "         'tner/twitter-roberta-base-dec2021-tweetner7-random',\n",
    "         'cardiffnlp/tweet-topic-21-multi',\n",
    "         'cardiffnlp/twitter-roberta-base-2021-124m'\n",
    "         ]\n",
    "\n",
    "# too large 'tner/bertweet-large-tweetner7-all',\n",
    "\n",
    "EPOCHS = 4\n",
    "\n",
    "device = torch.device(\"cuda\" if torch.cuda.is_available() else \"cpu\")\n",
    "\n",
    "def translate_class_column(df):\n",
    "    class_map = {\n",
    "        \"no influencer\": 0,\n",
    "        \"nano\": 1,\n",
    "        \"micro\": 2,\n",
    "        \"macro\": 3,\n",
    "        \"mega\": 4\n",
    "    }\n",
    "    \n",
    "    if \"class\" not in df.columns:\n",
    "        print(\"Error: DataFrame does not contain a column called 'class'\")\n",
    "        return\n",
    "    \n",
    "    df[\"class\"] = df[\"class\"].apply(lambda x: class_map.get(x, x))\n",
    "    \n",
    "    return df\n",
    "\n",
    "df_train = translate_class_column(pd.read_csv('../data/finetune_train_val_test/train.csv'))\n",
    "df_val = translate_class_column(pd.read_csv('../data/finetune_train_val_test/validate.csv'))\n",
    "df_test = translate_class_column(pd.read_csv('../data/finetune_train_val_test/test.csv'))"
   ]
  },
  {
   "cell_type": "code",
   "execution_count": 6,
   "metadata": {},
   "outputs": [
    {
     "name": "stdout",
     "output_type": "stream",
     "text": [
      "Training charlieoneill/distilbert-base-uncased-finetuned-tweet_eval-offensive\n"
     ]
    },
    {
     "name": "stderr",
     "output_type": "stream",
     "text": [
      "Some weights of the model checkpoint at charlieoneill/distilbert-base-uncased-finetuned-tweet_eval-offensive were not used when initializing DistilBertModel: ['classifier.bias', 'classifier.weight', 'pre_classifier.weight', 'pre_classifier.bias']\n",
      "- This IS expected if you are initializing DistilBertModel from the checkpoint of a model trained on another task or with another architecture (e.g. initializing a BertForSequenceClassification model from a BertForPreTraining model).\n",
      "- This IS NOT expected if you are initializing DistilBertModel from the checkpoint of a model that you expect to be exactly identical (initializing a BertForSequenceClassification model from a BertForSequenceClassification model).\n"
     ]
    },
    {
     "name": "stdout",
     "output_type": "stream",
     "text": [
      "Epoch 1/3\n",
      "----------\n",
      "Train loss 1.607277274131775 accuracy 0.24793388429752067\n",
      "Val loss   1.6048325598239899 accuracy 0.26666666666666666\n",
      "\n",
      "Epoch 2/3\n",
      "----------\n",
      "Train loss 1.6071053743362427 accuracy 0.2231404958677686\n",
      "Val loss   1.6030568778514862 accuracy 0.4666666666666667\n",
      "\n",
      "Epoch 3/3\n",
      "----------\n",
      "Train loss 1.6014700166640743 accuracy 0.2892561983471075\n",
      "Val loss   1.6021323800086975 accuracy 0.4666666666666667\n",
      "\n",
      "Model saved to distilbert-base-uncased-finetuned-tweet_eval-offensive.pth\n",
      "\n"
     ]
    }
   ],
   "source": [
    "for model_name in MODELS:    \n",
    "    print(f'Training {model_name}')\n",
    "    # Retrieve the tokenizer for the model\n",
    "    tokenizer = AutoTokenizer.from_pretrained(model_name)\n",
    "\n",
    "    # Create data loader\n",
    "    train_data_loader = create_data_loader(df_train, tokenizer, 512, 4)\n",
    "    val_data_loader = create_data_loader(df_val, tokenizer, 512, 4)\n",
    "    test_data_loader = create_data_loader(df_test, tokenizer, 512, 4)\n",
    "\n",
    "    # Create model\n",
    "    model = InfluencerProfiler(model= model_name, n_classes=5).to(device)\n",
    "    model.requires_grad_embeddings(True)\n",
    "\n",
    "    # Set training parameters\n",
    "    optimizer = optim.AdamW(model.parameters(), lr=2e-5)\n",
    "    total_steps = len(train_data_loader) * EPOCHS\n",
    "    scheduler = get_linear_schedule_with_warmup(\n",
    "                    optimizer,\n",
    "                    num_warmup_steps=0,\n",
    "                    num_training_steps=total_steps\n",
    "                )\n",
    "\n",
    "    # Set loss function\n",
    "    loss_fn = nn.CrossEntropyLoss().to(device)\n",
    "\n",
    "    # Train model\n",
    "    model = train_loop(EPOCHS, train_data_loader, val_data_loader, model, loss_fn, optimizer, device, scheduler)\n",
    "\n",
    "    # Export model\n",
    "    save_as = model_name.split('/', 1)[1]\n",
    "    save_model(model, f'{save_as}.pth')\n",
    "\n",
    "    # Free GPU mem from model\n",
    "    del(model)\n",
    "    torch.cuda.empty_cache()\n",
    "    print()"
   ]
  }
 ],
 "metadata": {
  "kernelspec": {
   "display_name": "NLP",
   "language": "python",
   "name": "python3"
  },
  "language_info": {
   "codemirror_mode": {
    "name": "ipython",
    "version": 3
   },
   "file_extension": ".py",
   "mimetype": "text/x-python",
   "name": "python",
   "nbconvert_exporter": "python",
   "pygments_lexer": "ipython3",
   "version": "3.8.10"
  },
  "orig_nbformat": 4
 },
 "nbformat": 4,
 "nbformat_minor": 2
}
