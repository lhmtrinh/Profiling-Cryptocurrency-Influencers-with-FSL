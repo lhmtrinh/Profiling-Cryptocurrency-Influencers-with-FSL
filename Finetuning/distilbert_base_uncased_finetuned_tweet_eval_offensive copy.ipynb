{
 "cells": [
  {
   "cell_type": "code",
   "execution_count": 1,
   "metadata": {},
   "outputs": [],
   "source": [
    "from transformers import XLNetModel, AutoTokenizer, AdamW, get_linear_schedule_with_warmup\n",
    "import pandas as pd\n",
    "import numpy as np\n",
    "\n",
    "from tqdm import tqdm\n",
    "\n",
    "import torch\n",
    "from torch.utils.data import Dataset, DataLoader\n",
    "import torch.nn as nn\n",
    "from torch import optim\n",
    "\n",
    "\n",
    "from sklearn.model_selection import train_test_split\n",
    "from sklearn.metrics import confusion_matrix, ConfusionMatrixDisplay\n",
    "from sklearn.metrics import accuracy_score\n",
    "from sklearn.metrics import f1_score\n",
    "from sklearn.utils.class_weight import compute_class_weight\n",
    "from sklearn.preprocessing import StandardScaler\n",
    "import matplotlib.pyplot as plt\n",
    "\n",
    "RANDOM_SEED = 20\n",
    "NUMBER_LABELS = 5 \n",
    "NUMBER_FEATURES = 9\n",
    "MODEL = 'charlieoneill/distilbert-base-uncased-finetuned-tweet_eval-offensive'\n",
    "tokenizer = XLNetTokenizer.from_pretrained(MODEL)\n",
    "\n",
    "BATCH_SIZE = 8\n",
    "\n",
    "device = torch.device(\"cuda\" if torch.cuda.is_available() else \"cpu\")\n",
    "torch.cuda.get_device_name(0)\n",
    "torch.cuda.empty_cache()"
   ]
  },
  {
   "cell_type": "markdown",
   "metadata": {},
   "source": [
    "# Load data"
   ]
  },
  {
   "cell_type": "code",
   "execution_count": 4,
   "metadata": {},
   "outputs": [],
   "source": [
    "df =  pd.read_csv(\"../../data/data_old_v2/processed_data_Q\"+str(Q_NO)+\".csv\").drop(['plagiarized_score', 'plagiarized_index'],axis=1)\n",
    "\n",
    "df = df[~df['ID'].isin(IDS)]\n",
    "\n",
    "# transform label\n",
    "df[VAR_S] = df[VAR_S]-1\n",
    "df[VAR_S].value_counts()\n",
    "\n",
    "scaler = StandardScaler()\n",
    "features = pd.DataFrame(scaler.fit_transform(df.loc[:,'length_in_words':]))\n",
    "df = pd.concat([df.loc[:,['ID',VAR_Q,VAR_S]], features], axis=1)\n",
    "\n",
    "# define the downsampling condition\n",
    "condition =  f'{VAR_S} == 1 |  {VAR_S} == 2'\n",
    "\n",
    "# filter the dataframe based on the condition\n",
    "downsampled_df = df.query(condition)\n",
    "\n",
    "# randomly select a subset of rows to keep\n",
    "frac_to_keep = 0.5  # fraction of rows to keep\n",
    "downsampled_df = downsampled_df.sample(frac=frac_to_keep)\n",
    "\n",
    "df = df.query(f'{VAR_S} != 1 & {VAR_S} != 2')\n",
    "\n",
    "df = pd.concat([df,downsampled_df],axis=0)"
   ]
  },
  {
   "cell_type": "code",
   "execution_count": 5,
   "metadata": {},
   "outputs": [],
   "source": [
    "df_train_val, df_test = train_test_split(df, test_size=0.15,random_state=RANDOM_SEED)\n",
    "df_train, df_val = train_test_split(df_train_val,test_size=0.2,random_state=RANDOM_SEED)\n",
    "\n",
    "df_train = df_train.dropna()\n",
    "df_val = df_val[df_val['ID']!=1].dropna()\n",
    "df_test = df_test[df_test['ID']!=1].dropna()"
   ]
  },
  {
   "cell_type": "code",
   "execution_count": 6,
   "metadata": {},
   "outputs": [
    {
     "name": "stdout",
     "output_type": "stream",
     "text": [
      "1097\n",
      "248\n",
      "219\n"
     ]
    }
   ],
   "source": [
    "print(len(df_train))\n",
    "print(len(df_val))\n",
    "print(len(df_test))"
   ]
  },
  {
   "cell_type": "markdown",
   "metadata": {},
   "source": [
    "# Create a pytorch dataset class and dataloader"
   ]
  },
  {
   "cell_type": "code",
   "execution_count": 7,
   "metadata": {},
   "outputs": [],
   "source": [
    "class LFG_dataset(Dataset):\n",
    "\n",
    "  def __init__(self,tokenizer, max_len, answers, scores, features):\n",
    "    self.tokenizer = tokenizer\n",
    "    self.max_len = max_len\n",
    "\n",
    "    # answer and scores\n",
    "    self.answers = answers\n",
    "    self.scores = scores\n",
    "\n",
    "    self.features = features\n",
    "  \n",
    "  def __len__(self):\n",
    "    return len(self.answers)\n",
    "  \n",
    "  def __getitem__(self, idx):\n",
    "    answer = self.answers[idx]\n",
    "    score = self.scores[idx]\n",
    "    features = self.features[idx]\n",
    "   \n",
    "    encoding = tokenizer(\n",
    "      answer,\n",
    "      max_length = self.max_len,\n",
    "      padding ='max_length',\n",
    "      truncation = True,\n",
    "      return_tensors='pt',\n",
    "    )\n",
    "\n",
    "    \n",
    "    return {\n",
    "      'answer_text': answer,\n",
    "      'input_ids': encoding['input_ids'].flatten(),\n",
    "      'attention_mask': encoding['attention_mask'].flatten(),\n",
    "      'score' : torch.tensor(score, dtype=torch.long),\n",
    "      'features': torch.tensor(features,dtype=torch.float32)\n",
    "    }"
   ]
  },
  {
   "cell_type": "code",
   "execution_count": 8,
   "metadata": {},
   "outputs": [],
   "source": [
    "def create_data_loader(df, tokenizer, max_len, batch_size=1):\n",
    "  ds = LFG_dataset(\n",
    "    tokenizer=tokenizer,\n",
    "    max_len=max_len,\n",
    "    answers=df[VAR_Q].to_numpy(),\n",
    "    scores=df[VAR_S].to_numpy().astype(int),\n",
    "    features= df.iloc[:,2:].to_numpy().astype(float)\n",
    "  )\n",
    "\n",
    "  return DataLoader(\n",
    "    ds,\n",
    "    batch_size=batch_size\n",
    "  )"
   ]
  },
  {
   "cell_type": "code",
   "execution_count": 9,
   "metadata": {},
   "outputs": [],
   "source": [
    "train_data_loader = create_data_loader(df_train.drop(columns=['ID']), tokenizer, 550, BATCH_SIZE)\n",
    "val_data_loader = create_data_loader(df_val.drop(columns=['ID']), tokenizer, 550, BATCH_SIZE)\n",
    "test_data_loader = create_data_loader(df_test.drop(columns=['ID']), tokenizer, 550)"
   ]
  },
  {
   "cell_type": "code",
   "execution_count": 10,
   "metadata": {},
   "outputs": [],
   "source": [
    "class_weights = compute_class_weight(class_weight='balanced', classes=np.unique(df_train[VAR_S]), y=df_train[VAR_S])\n",
    "class_weights=torch.tensor(class_weights,dtype=torch.float)"
   ]
  },
  {
   "cell_type": "markdown",
   "metadata": {},
   "source": [
    "# Model and loss function"
   ]
  },
  {
   "cell_type": "code",
   "execution_count": 11,
   "metadata": {},
   "outputs": [],
   "source": [
    "class LFG_grading(nn.Module):\n",
    "\n",
    "    def __init__(self, n_classes, n_features):\n",
    "        super(LFG_grading, self).__init__()\n",
    "        self.xlnet = XLNetModel.from_pretrained(MODEL)\n",
    "\n",
    "        self.drop = nn.Dropout(p=0.5)\n",
    "        self.fc1 = nn.Linear((self.xlnet.config.hidden_size + n_features), 350)\n",
    "        self.fc2 = nn.Linear(350,350)\n",
    "        self.fc3 = nn.Linear(350,n_classes)\n",
    "        self.softmax = nn.Softmax(dim=1)\n",
    "        self.relu = nn.ReLU()\n",
    "  \n",
    "    def forward(self, input_ids, attention_mask, features):\n",
    "        output = self.xlnet(\n",
    "          input_ids=input_ids,\n",
    "          attention_mask=attention_mask\n",
    "        )\n",
    "        # Get the first element of output which is the hidden state\n",
    "        # Get the embeddings of CLS token\n",
    "        cls_embeddings = output[0][:,-1,:]\n",
    "        \n",
    "        # Add features along with cls embeddings\n",
    "        output = torch.concat([cls_embeddings,features], dim=1)\n",
    "\n",
    "        # Layer 1\n",
    "        output = self.drop(output)\n",
    "        output = self.fc1(output)\n",
    "        output = self.relu(output)\n",
    "        \n",
    "        # Layer 2\n",
    "        output = self.drop(output)\n",
    "        output = self.fc2(output)\n",
    "        output = self.relu(output)\n",
    "        \n",
    "        #Layer 3\n",
    "        output = self.drop(output)\n",
    "        output = self.fc3(output)\n",
    "        return self.softmax(output)\n",
    "\n",
    "    def requires_grad_embeddings(self, val):\n",
    "        for param in self.xlnet.parameters():\n",
    "            param.requires_grad = val   \n",
    "  "
   ]
  },
  {
   "cell_type": "code",
   "execution_count": 12,
   "metadata": {},
   "outputs": [],
   "source": [
    "# Save the model to a file\n",
    "def save_model(model, file_path):\n",
    "    torch.save(model.state_dict(), file_path)\n",
    "    print(f\"Model saved to {file_path}\")\n",
    "\n",
    "# Load the model from a file\n",
    "def load_model(model_class, n_classes,n_features, file_path):\n",
    "    model = model_class(n_classes, n_features)\n",
    "    model.load_state_dict(torch.load(file_path))\n",
    "    model.eval()  # Set the model to evaluation mode\n",
    "    print(f\"Model loaded from {file_path}\")\n",
    "    return model"
   ]
  },
  {
   "cell_type": "code",
   "execution_count": 13,
   "metadata": {},
   "outputs": [],
   "source": [
    "class OrdinalLoss(nn.Module):\n",
    "    def __init__(self, weight):\n",
    "        super(OrdinalLoss, self).__init__()\n",
    "        self.weight = weight\n",
    "\n",
    "    def forward(self, output, target):\n",
    "        # Following https://github.com/JHart96/keras_ordinal_categorical_crossentropy\n",
    "\n",
    "        # Take the weighted cross entropy loss \n",
    "        criterion = nn.CrossEntropyLoss(weight=self.weight, reduction='none').to(device)\n",
    "\n",
    "        # Calculate term W \n",
    "        output_label = torch.argmax(output, dim=1)\n",
    "        \n",
    "        # 5 classes, divided by 4\n",
    "        w = torch.abs(output_label-target)/4\n",
    "        \n",
    "        # Calculate loss \n",
    "        loss = (w+1)*criterion(output, target)\n",
    "        return loss.mean(dim=0)"
   ]
  },
  {
   "attachments": {},
   "cell_type": "markdown",
   "metadata": {},
   "source": [
    "# Training loop"
   ]
  },
  {
   "cell_type": "code",
   "execution_count": 14,
   "metadata": {},
   "outputs": [
    {
     "name": "stderr",
     "output_type": "stream",
     "text": [
      "Some weights of the model checkpoint at xlnet-base-cased were not used when initializing XLNetModel: ['lm_loss.bias', 'lm_loss.weight']\n",
      "- This IS expected if you are initializing XLNetModel from the checkpoint of a model trained on another task or with another architecture (e.g. initializing a BertForSequenceClassification model from a BertForPreTraining model).\n",
      "- This IS NOT expected if you are initializing XLNetModel from the checkpoint of a model that you expect to be exactly identical (initializing a BertForSequenceClassification model from a BertForSequenceClassification model).\n"
     ]
    }
   ],
   "source": [
    "EPOCHS = 6\n",
    "\n",
    "model = LFG_grading(NUMBER_LABELS,NUMBER_FEATURES).to(device)\n",
    "model.requires_grad_embeddings(True)\n",
    "\n",
    "optimizer = optim.AdamW(model.parameters(), lr=2e-5)\n",
    "total_steps = len(train_data_loader) * EPOCHS\n",
    "\n",
    "scheduler = get_linear_schedule_with_warmup(\n",
    "  optimizer,\n",
    "  num_warmup_steps=0,\n",
    "  num_training_steps=total_steps\n",
    ")\n",
    "\n",
    "loss_fn = OrdinalLoss(weight=class_weights).to(device)"
   ]
  },
  {
   "cell_type": "code",
   "execution_count": 15,
   "metadata": {},
   "outputs": [],
   "source": [
    "def train_epoch(model, train_data_loader, n_train_examples, val_data_loader, n_val_examples, loss_fn, optimizer, device, scheduler):\n",
    "  model = model.train()\n",
    "\n",
    "  train_loss = []\n",
    "  train_correct_predictions = 0\n",
    "  \n",
    "  for i,d in enumerate(tqdm(train_data_loader)):\n",
    "    input_ids = d[\"input_ids\"].to(device)\n",
    "    attention_mask = d[\"attention_mask\"].to(device)\n",
    "    targets = d[\"score\"].to(device)\n",
    "    features = d[\"features\"].to(device)\n",
    "\n",
    "    outputs = model(\n",
    "      input_ids = input_ids,\n",
    "      attention_mask = attention_mask,\n",
    "      features = features\n",
    "    )\n",
    "\n",
    "    loss = loss_fn(outputs, targets)\n",
    "    train_loss.append(loss.item())\n",
    "    loss.backward()\n",
    "\n",
    "    predictions = outputs.argmax(dim=1)\n",
    "    train_correct_predictions += torch.sum(predictions == targets)\n",
    "\n",
    "    nn.utils.clip_grad_norm_(model.parameters(), max_norm=1.0)\n",
    "    optimizer.step()\n",
    "    scheduler.step()\n",
    "    optimizer.zero_grad()\n",
    "    \n",
    "  val_loss = []\n",
    "  val_correct_predictions = 0\n",
    "\n",
    "  with torch.no_grad():\n",
    "    model.eval()\n",
    "    for i, d in enumerate(tqdm(val_data_loader)):\n",
    "      input_ids = d[\"input_ids\"].to(device)\n",
    "      attention_mask = d[\"attention_mask\"].to(device)\n",
    "      targets = d[\"score\"].to(device)\n",
    "      features = d[\"features\"].to(device)\n",
    "\n",
    "      outputs = model(\n",
    "        input_ids = input_ids,\n",
    "        attention_mask = attention_mask,\n",
    "        features = features\n",
    "      )\n",
    "\n",
    "      loss = loss_fn(outputs, targets)\n",
    "      val_loss.append(loss.item())\n",
    "\n",
    "      predictions = outputs.argmax(dim=1)\n",
    "      val_correct_predictions += torch.sum(predictions == targets)\n",
    "\n",
    "\n",
    "  return (train_correct_predictions.double() / n_train_examples), np.mean(train_loss), (val_correct_predictions.double()/n_val_examples), np.mean(val_loss)"
   ]
  },
  {
   "cell_type": "code",
   "execution_count": 16,
   "metadata": {},
   "outputs": [],
   "source": [
    "def test_epoch(model, data_loader, device):\n",
    "    predictions = torch.tensor([], dtype=torch.long).to(device)\n",
    "    targets = torch.tensor([], dtype=torch.long).to(device)\n",
    "\n",
    "    model = model.eval()\n",
    "    with torch.no_grad():\n",
    "        for i,d in enumerate(tqdm(data_loader)):\n",
    "            input_ids = d[\"input_ids\"].to(device)\n",
    "            attention_mask = d[\"attention_mask\"].to(device)\n",
    "            score = d[\"score\"].to(device)\n",
    "            features = d[\"features\"].to(device)\n",
    "            \n",
    "            outputs = model(\n",
    "                input_ids=input_ids,\n",
    "                attention_mask=attention_mask,\n",
    "                features = features\n",
    "            )\n",
    "\n",
    "            predictions = torch.cat((predictions,outputs.argmax(dim=1)), dim=0)\n",
    "            targets = torch.cat((targets,score), dim=0)\n",
    "    return targets, predictions"
   ]
  },
  {
   "cell_type": "code",
   "execution_count": 17,
   "metadata": {},
   "outputs": [
    {
     "name": "stdout",
     "output_type": "stream",
     "text": [
      "Epoch 1/6\n",
      "----------\n"
     ]
    },
    {
     "name": "stderr",
     "output_type": "stream",
     "text": [
      "100%|██████████| 138/138 [03:50<00:00,  1.67s/it]\n",
      "100%|██████████| 31/31 [00:28<00:00,  1.09it/s]\n"
     ]
    },
    {
     "name": "stdout",
     "output_type": "stream",
     "text": [
      "Train loss 2.1982398620550185 accuracy 0.23883318140382861\n",
      "Val loss   1.7044369636043426 accuracy 0.3387096774193548\n",
      "\n",
      "Epoch 2/6\n",
      "----------\n"
     ]
    },
    {
     "name": "stderr",
     "output_type": "stream",
     "text": [
      "100%|██████████| 138/138 [03:51<00:00,  1.68s/it]\n",
      "100%|██████████| 31/31 [00:28<00:00,  1.09it/s]\n"
     ]
    },
    {
     "name": "stdout",
     "output_type": "stream",
     "text": [
      "Train loss 2.0222580376742543 accuracy 0.3509571558796718\n",
      "Val loss   1.676217863636632 accuracy 0.3387096774193548\n",
      "\n",
      "Epoch 3/6\n",
      "----------\n"
     ]
    },
    {
     "name": "stderr",
     "output_type": "stream",
     "text": [
      "100%|██████████| 138/138 [03:51<00:00,  1.68s/it]\n",
      "100%|██████████| 31/31 [00:28<00:00,  1.09it/s]\n"
     ]
    },
    {
     "name": "stdout",
     "output_type": "stream",
     "text": [
      "Train loss 1.9262374086656433 accuracy 0.4038286235186873\n",
      "Val loss   1.581080109842362 accuracy 0.41532258064516125\n",
      "\n",
      "Epoch 4/6\n",
      "----------\n"
     ]
    },
    {
     "name": "stderr",
     "output_type": "stream",
     "text": [
      "100%|██████████| 138/138 [03:51<00:00,  1.68s/it]\n",
      "100%|██████████| 31/31 [00:28<00:00,  1.09it/s]\n"
     ]
    },
    {
     "name": "stdout",
     "output_type": "stream",
     "text": [
      "Train loss 1.8715272027513254 accuracy 0.43482224247948953\n",
      "Val loss   1.5288078323487313 accuracy 0.4798387096774193\n",
      "\n",
      "Epoch 5/6\n",
      "----------\n"
     ]
    },
    {
     "name": "stderr",
     "output_type": "stream",
     "text": [
      "100%|██████████| 138/138 [03:51<00:00,  1.68s/it]\n",
      "100%|██████████| 31/31 [00:28<00:00,  1.09it/s]\n"
     ]
    },
    {
     "name": "stdout",
     "output_type": "stream",
     "text": [
      "Train loss 1.8292563130026278 accuracy 0.4676390154968095\n",
      "Val loss   1.534969441352352 accuracy 0.4959677419354839\n",
      "\n",
      "Epoch 6/6\n",
      "----------\n"
     ]
    },
    {
     "name": "stderr",
     "output_type": "stream",
     "text": [
      "100%|██████████| 138/138 [03:51<00:00,  1.68s/it]\n",
      "100%|██████████| 31/31 [00:28<00:00,  1.09it/s]"
     ]
    },
    {
     "name": "stdout",
     "output_type": "stream",
     "text": [
      "Train loss 1.802896150212357 accuracy 0.49407474931631723\n",
      "Val loss   1.5337850662969774 accuracy 0.49193548387096775\n",
      "\n"
     ]
    },
    {
     "name": "stderr",
     "output_type": "stream",
     "text": [
      "\n"
     ]
    }
   ],
   "source": [
    "train_acc_hist = []\n",
    "val_acc_hist = []\n",
    "train_loss_hist = []\n",
    "val_loss_hist = []\n",
    "for epoch in range(EPOCHS):\n",
    "\n",
    "  print(f'Epoch {epoch + 1}/{EPOCHS}')\n",
    "  print('-' * 10)\n",
    "\n",
    "  train_acc, train_loss, val_acc, val_loss = train_epoch(\n",
    "    model,\n",
    "    train_data_loader,\n",
    "    len(df_train),\n",
    "    val_data_loader,\n",
    "    len(df_val),\n",
    "    loss_fn, \n",
    "    optimizer, \n",
    "    device, \n",
    "    scheduler, \n",
    "  )\n",
    "  \n",
    "  train_acc_hist.append(train_acc)\n",
    "  train_loss_hist.append(train_loss)\n",
    "  val_acc_hist.append(val_acc)\n",
    "  val_loss_hist.append(val_loss)\n",
    "  print(f'Train loss {train_loss} accuracy {train_acc}')\n",
    "  print(f'Val loss   {val_loss} accuracy {val_acc}')\n",
    "  print()"
   ]
  },
  {
   "cell_type": "code",
   "execution_count": 18,
   "metadata": {},
   "outputs": [
    {
     "name": "stdout",
     "output_type": "stream",
     "text": [
      "Model saved to Q6.pth\n"
     ]
    }
   ],
   "source": [
    "save_model(model,f\"{NAME}.pth\")"
   ]
  },
  {
   "cell_type": "code",
   "execution_count": 19,
   "metadata": {},
   "outputs": [],
   "source": [
    "# model = load_model(LFG_grading,NUMBER_LABELS,NUMBER_FEATURES,f\"{NAME_TO_SAVE}.pth\")"
   ]
  },
  {
   "cell_type": "code",
   "execution_count": 20,
   "metadata": {},
   "outputs": [
    {
     "name": "stderr",
     "output_type": "stream",
     "text": [
      "100%|██████████| 219/219 [00:16<00:00, 13.06it/s]\n"
     ]
    },
    {
     "name": "stdout",
     "output_type": "stream",
     "text": [
      "F1 score 0.33796631790362197\n",
      "Accuracy 0.4611872146118721\n"
     ]
    },
    {
     "data": {
      "image/png": "[encoded data removed]",
      "text/plain": [
       "<Figure size 640x480 with 2 Axes>"
      ]
     },
     "metadata": {},
     "output_type": "display_data"
    }
   ],
   "source": [
    "true, predict = test_epoch(model.to(device), test_data_loader, device)\n",
    "true = true.to('cpu')\n",
    "predict = predict.to('cpu')\n",
    "cm=confusion_matrix(true, predict)\n",
    "disp = ConfusionMatrixDisplay(confusion_matrix=cm, display_labels=[1,2,3,4,5])\n",
    "disp.plot()\n",
    "disp.figure_.savefig(NAME)\n",
    "print(f\"F1 score {f1_score(true, predict, average='macro')}\")\n",
    "print(f\"Accuracy {accuracy_score(true, predict)}\")\n"
   ]
  },
  {
   "attachments": {},
   "cell_type": "markdown",
   "metadata": {},
   "source": [
    "Export result"
   ]
  },
  {
   "cell_type": "code",
   "execution_count": 21,
   "metadata": {},
   "outputs": [
    {
     "name": "stderr",
     "output_type": "stream",
     "text": [
      "/tmp/ipykernel_1683/1220976931.py:2: SettingWithCopyWarning: \n",
      "A value is trying to be set on a copy of a slice from a DataFrame.\n",
      "Try using .loc[row_indexer,col_indexer] = value instead\n",
      "\n",
      "See the caveats in the documentation: https://pandas.pydata.org/pandas-docs/stable/user_guide/indexing.html#returning-a-view-versus-a-copy\n",
      "  export[f\"predict_{VAR_Q}\"] = predict\n"
     ]
    }
   ],
   "source": [
    "export = df_test[['ID',VAR_S]]\n",
    "export[f\"predict_{VAR_Q}\"] = predict\n",
    "export.rename(columns={VAR_S : f'acutal_{VAR_Q}'})\n",
    "export.to_csv(f\"result_{NAME}.csv\")"
   ]
  },
  {
   "cell_type": "code",
   "execution_count": 22,
   "metadata": {},
   "outputs": [
    {
     "name": "stdout",
     "output_type": "stream",
     "text": [
      "F1 score 0.7396391698821567\n",
      "Accuracy 0.7397260273972602\n"
     ]
    },
    {
     "data": {
      "image/png": "[encoded data removed]",
      "text/plain": [
       "<Figure size 640x480 with 2 Axes>"
      ]
     },
     "metadata": {},
     "output_type": "display_data"
    }
   ],
   "source": [
    "true_pf = true >= 2\n",
    "predict_pf = predict>=2\n",
    "cm=confusion_matrix(true_pf, predict_pf)\n",
    "disp = ConfusionMatrixDisplay(confusion_matrix=cm, display_labels=['Fail','Pass'])\n",
    "disp.plot()\n",
    "disp.figure_.savefig(f'{NAME}_pass_fail')\n",
    "print(f\"F1 score {f1_score(true_pf, predict_pf, average='macro')}\")\n",
    "print(f\"Accuracy {accuracy_score(true_pf, predict_pf)}\")\n"
   ]
  },
  {
   "cell_type": "code",
   "execution_count": 23,
   "metadata": {},
   "outputs": [],
   "source": [
    "del model"
   ]
  }
 ],
 "metadata": {
  "kernelspec": {
   "display_name": "NLP",
   "language": "python",
   "name": "python3"
  },
  "language_info": {
   "codemirror_mode": {
    "name": "ipython",
    "version": 3
   },
   "file_extension": ".py",
   "mimetype": "text/x-python",
   "name": "python",
   "nbconvert_exporter": "python",
   "pygments_lexer": "ipython3",
   "version": "3.9.16"
  },
  "vscode": {
   "interpreter": {
    "hash": "7eae479ad7e0b273445e45fe91474bb526c045303adb1db655a8cfe79e544b35"
   }
  }
 },
 "nbformat": 4,
 "nbformat_minor": 2
}
